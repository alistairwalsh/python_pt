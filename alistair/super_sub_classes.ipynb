{
 "cells": [
  {
   "cell_type": "code",
   "execution_count": 4,
   "metadata": {},
   "outputs": [],
   "source": [
    "class Rectangle:\n",
    "    \n",
    "    def __init__(self, length, width):\n",
    "        \n",
    "        self.length = length\n",
    "        self.width = width\n",
    "        \n",
    "    def get_area(self):\n",
    "        \n",
    "        return self.length * self.width\n",
    "        "
   ]
  },
  {
   "cell_type": "code",
   "execution_count": 5,
   "metadata": {},
   "outputs": [],
   "source": [
    "my_rectangle = Rectangle(10,8)"
   ]
  },
  {
   "cell_type": "code",
   "execution_count": 6,
   "metadata": {},
   "outputs": [
    {
     "data": {
      "text/plain": [
       "80"
      ]
     },
     "execution_count": 6,
     "metadata": {},
     "output_type": "execute_result"
    }
   ],
   "source": [
    "my_rectangle.get_area()"
   ]
  },
  {
   "cell_type": "code",
   "execution_count": 10,
   "metadata": {},
   "outputs": [],
   "source": [
    "class Square:\n",
    "    \n",
    "    def __init__(self, length):\n",
    "        self.length = length\n",
    "        \n",
    "    def get_area(self):\n",
    "        \n",
    "        return self.length**2"
   ]
  },
  {
   "cell_type": "code",
   "execution_count": 11,
   "metadata": {},
   "outputs": [],
   "source": [
    "my_square = Square(10)"
   ]
  },
  {
   "cell_type": "code",
   "execution_count": 12,
   "metadata": {},
   "outputs": [
    {
     "data": {
      "text/plain": [
       "100"
      ]
     },
     "execution_count": 12,
     "metadata": {},
     "output_type": "execute_result"
    }
   ],
   "source": [
    "my_square.get_area()"
   ]
  },
  {
   "cell_type": "code",
   "execution_count": 13,
   "metadata": {},
   "outputs": [],
   "source": [
    "class Rectangle:\n",
    "    \n",
    "    def __init__(self, length, width):\n",
    "        \n",
    "        self.length = length\n",
    "        self.width = width\n",
    "        \n",
    "    def get_area(self):\n",
    "        \n",
    "        return self.length * self.width\n",
    "\n",
    "class Square(Rectangle):\n",
    "    \n",
    "    def __init__(self, length):\n",
    "        super().__init__(length,length)\n"
   ]
  },
  {
   "cell_type": "code",
   "execution_count": 14,
   "metadata": {},
   "outputs": [],
   "source": [
    "my_square = Square(10)"
   ]
  },
  {
   "cell_type": "code",
   "execution_count": 15,
   "metadata": {},
   "outputs": [
    {
     "data": {
      "text/plain": [
       "100"
      ]
     },
     "execution_count": 15,
     "metadata": {},
     "output_type": "execute_result"
    }
   ],
   "source": [
    "my_square.get_area()"
   ]
  },
  {
   "cell_type": "code",
   "execution_count": 35,
   "metadata": {},
   "outputs": [],
   "source": [
    "class Cube(Square):\n",
    "    \n",
    "    def surface_area(self):\n",
    "        return super().get_area() * 6\n",
    "\n",
    "    def volume(self):\n",
    "        return super().get_area() * self.length"
   ]
  },
  {
   "cell_type": "code",
   "execution_count": 36,
   "metadata": {},
   "outputs": [],
   "source": [
    "my_cube = Cube(10)"
   ]
  },
  {
   "cell_type": "code",
   "execution_count": 37,
   "metadata": {},
   "outputs": [
    {
     "data": {
      "text/plain": [
       "100"
      ]
     },
     "execution_count": 37,
     "metadata": {},
     "output_type": "execute_result"
    }
   ],
   "source": [
    "my_cube.get_area()"
   ]
  },
  {
   "cell_type": "code",
   "execution_count": 38,
   "metadata": {},
   "outputs": [
    {
     "data": {
      "text/plain": [
       "600"
      ]
     },
     "execution_count": 38,
     "metadata": {},
     "output_type": "execute_result"
    }
   ],
   "source": [
    "my_cube.surface_area()"
   ]
  },
  {
   "cell_type": "code",
   "execution_count": 39,
   "metadata": {},
   "outputs": [
    {
     "data": {
      "text/plain": [
       "1000"
      ]
     },
     "execution_count": 39,
     "metadata": {},
     "output_type": "execute_result"
    }
   ],
   "source": [
    "my_cube.volume()"
   ]
  },
  {
   "cell_type": "code",
   "execution_count": 39,
   "metadata": {},
   "outputs": [],
   "source": [
    "from random import randint\n",
    "\n",
    "class Creature:\n",
    "    \n",
    "    def __init__(self, name, sound, weight_kg, legs = 4):\n",
    "        self.hp = randint(1,10)\n",
    "        self.name = name\n",
    "        self.sound = sound\n",
    "        self.legs = legs\n",
    "        self.weight_kg = weight_kg\n",
    "        \n",
    "    def move(self):\n",
    "        print('pitter patter')\n",
    "        \n",
    "    def make_noise(self):\n",
    "        print(self.sound)\n",
    "\n",
    "    def attack(self):\n",
    "        print(f'The creature did you {self.hp} damage')\n",
    "        \n",
    "        \n",
    "class Reptile(Creature):\n",
    "    \n",
    "    def __init__(self, name, sound, weight_kg, legs = 0, poisonous = True):\n",
    "        super().__init__(name, sound, weight_kg, legs = 0)\n",
    "        self.poisonous = poisonous\n",
    "        \n",
    "class Bird(Creature):\n",
    "    \n",
    "    def __init__(self, name, sound, weight_kg,legs = 2, wings = 2):\n",
    "        super().__init__(name, sound, weight_kg, legs = 2)\n",
    "        self.wings = wings\n",
    "    \n",
    "    \n",
    "        "
   ]
  },
  {
   "cell_type": "code",
   "execution_count": 40,
   "metadata": {},
   "outputs": [],
   "source": [
    "snake = Reptile(name = 'Harry', sound = 'hissss', weight_kg = 10 , legs = 0)"
   ]
  },
  {
   "cell_type": "code",
   "execution_count": 41,
   "metadata": {},
   "outputs": [
    {
     "data": {
      "text/plain": [
       "True"
      ]
     },
     "execution_count": 41,
     "metadata": {},
     "output_type": "execute_result"
    }
   ],
   "source": [
    "snake.poisonous"
   ]
  },
  {
   "cell_type": "code",
   "execution_count": 42,
   "metadata": {},
   "outputs": [],
   "source": [
    "bird = Bird(name = 'Sally', sound = 'chirp', weight_kg = 10 , legs = 2)"
   ]
  },
  {
   "cell_type": "code",
   "execution_count": 43,
   "metadata": {},
   "outputs": [
    {
     "data": {
      "text/plain": [
       "2"
      ]
     },
     "execution_count": 43,
     "metadata": {},
     "output_type": "execute_result"
    }
   ],
   "source": [
    "bird.wings"
   ]
  },
  {
   "cell_type": "code",
   "execution_count": null,
   "metadata": {},
   "outputs": [],
   "source": []
  }
 ],
 "metadata": {
  "kernelspec": {
   "display_name": "Python 3",
   "language": "python",
   "name": "python3"
  },
  "language_info": {
   "codemirror_mode": {
    "name": "ipython",
    "version": 3
   },
   "file_extension": ".py",
   "mimetype": "text/x-python",
   "name": "python",
   "nbconvert_exporter": "python",
   "pygments_lexer": "ipython3",
   "version": "3.7.3"
  }
 },
 "nbformat": 4,
 "nbformat_minor": 4
}
